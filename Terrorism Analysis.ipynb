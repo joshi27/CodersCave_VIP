{
 "cells": [
  {
   "cell_type": "markdown",
   "id": "7c21124e",
   "metadata": {},
   "source": [
    "# Importing Data and Python libraries"
   ]
  },
  {
   "cell_type": "code",
   "execution_count": 3,
   "id": "76bdba00",
   "metadata": {},
   "outputs": [],
   "source": [
    "import numpy as np\n",
    "import pandas as pd\n",
    "\n",
    "Data = pd.read_csv(\"C:\\\\Users\\\\91991\\\\Desktop\\\\Projects\\\\CodersCave\\\\globalterrorismdb_0718dist.csv\",encoding='ISO-8859-1',low_memory=False)"
   ]
  },
  {
   "cell_type": "markdown",
   "id": "9260b33f",
   "metadata": {},
   "source": [
    "# To Show First 5 rows"
   ]
  },
  {
   "cell_type": "code",
   "execution_count": 4,
   "id": "2b3220d8",
   "metadata": {},
   "outputs": [
    {
     "data": {
      "text/html": [
       "<div>\n",
       "<style scoped>\n",
       "    .dataframe tbody tr th:only-of-type {\n",
       "        vertical-align: middle;\n",
       "    }\n",
       "\n",
       "    .dataframe tbody tr th {\n",
       "        vertical-align: top;\n",
       "    }\n",
       "\n",
       "    .dataframe thead th {\n",
       "        text-align: right;\n",
       "    }\n",
       "</style>\n",
       "<table border=\"1\" class=\"dataframe\">\n",
       "  <thead>\n",
       "    <tr style=\"text-align: right;\">\n",
       "      <th></th>\n",
       "      <th>eventid</th>\n",
       "      <th>iyear</th>\n",
       "      <th>imonth</th>\n",
       "      <th>iday</th>\n",
       "      <th>approxdate</th>\n",
       "      <th>extended</th>\n",
       "      <th>resolution</th>\n",
       "      <th>country</th>\n",
       "      <th>country_txt</th>\n",
       "      <th>region</th>\n",
       "      <th>...</th>\n",
       "      <th>addnotes</th>\n",
       "      <th>scite1</th>\n",
       "      <th>scite2</th>\n",
       "      <th>scite3</th>\n",
       "      <th>dbsource</th>\n",
       "      <th>INT_LOG</th>\n",
       "      <th>INT_IDEO</th>\n",
       "      <th>INT_MISC</th>\n",
       "      <th>INT_ANY</th>\n",
       "      <th>related</th>\n",
       "    </tr>\n",
       "  </thead>\n",
       "  <tbody>\n",
       "    <tr>\n",
       "      <th>0</th>\n",
       "      <td>197000000001</td>\n",
       "      <td>1970</td>\n",
       "      <td>7</td>\n",
       "      <td>2</td>\n",
       "      <td>NaN</td>\n",
       "      <td>0</td>\n",
       "      <td>NaN</td>\n",
       "      <td>58</td>\n",
       "      <td>Dominican Republic</td>\n",
       "      <td>2</td>\n",
       "      <td>...</td>\n",
       "      <td>NaN</td>\n",
       "      <td>NaN</td>\n",
       "      <td>NaN</td>\n",
       "      <td>NaN</td>\n",
       "      <td>PGIS</td>\n",
       "      <td>0</td>\n",
       "      <td>0</td>\n",
       "      <td>0</td>\n",
       "      <td>0</td>\n",
       "      <td>NaN</td>\n",
       "    </tr>\n",
       "    <tr>\n",
       "      <th>1</th>\n",
       "      <td>197000000002</td>\n",
       "      <td>1970</td>\n",
       "      <td>0</td>\n",
       "      <td>0</td>\n",
       "      <td>NaN</td>\n",
       "      <td>0</td>\n",
       "      <td>NaN</td>\n",
       "      <td>130</td>\n",
       "      <td>Mexico</td>\n",
       "      <td>1</td>\n",
       "      <td>...</td>\n",
       "      <td>NaN</td>\n",
       "      <td>NaN</td>\n",
       "      <td>NaN</td>\n",
       "      <td>NaN</td>\n",
       "      <td>PGIS</td>\n",
       "      <td>0</td>\n",
       "      <td>1</td>\n",
       "      <td>1</td>\n",
       "      <td>1</td>\n",
       "      <td>NaN</td>\n",
       "    </tr>\n",
       "    <tr>\n",
       "      <th>2</th>\n",
       "      <td>197001000001</td>\n",
       "      <td>1970</td>\n",
       "      <td>1</td>\n",
       "      <td>0</td>\n",
       "      <td>NaN</td>\n",
       "      <td>0</td>\n",
       "      <td>NaN</td>\n",
       "      <td>160</td>\n",
       "      <td>Philippines</td>\n",
       "      <td>5</td>\n",
       "      <td>...</td>\n",
       "      <td>NaN</td>\n",
       "      <td>NaN</td>\n",
       "      <td>NaN</td>\n",
       "      <td>NaN</td>\n",
       "      <td>PGIS</td>\n",
       "      <td>-9</td>\n",
       "      <td>-9</td>\n",
       "      <td>1</td>\n",
       "      <td>1</td>\n",
       "      <td>NaN</td>\n",
       "    </tr>\n",
       "    <tr>\n",
       "      <th>3</th>\n",
       "      <td>197001000002</td>\n",
       "      <td>1970</td>\n",
       "      <td>1</td>\n",
       "      <td>0</td>\n",
       "      <td>NaN</td>\n",
       "      <td>0</td>\n",
       "      <td>NaN</td>\n",
       "      <td>78</td>\n",
       "      <td>Greece</td>\n",
       "      <td>8</td>\n",
       "      <td>...</td>\n",
       "      <td>NaN</td>\n",
       "      <td>NaN</td>\n",
       "      <td>NaN</td>\n",
       "      <td>NaN</td>\n",
       "      <td>PGIS</td>\n",
       "      <td>-9</td>\n",
       "      <td>-9</td>\n",
       "      <td>1</td>\n",
       "      <td>1</td>\n",
       "      <td>NaN</td>\n",
       "    </tr>\n",
       "    <tr>\n",
       "      <th>4</th>\n",
       "      <td>197001000003</td>\n",
       "      <td>1970</td>\n",
       "      <td>1</td>\n",
       "      <td>0</td>\n",
       "      <td>NaN</td>\n",
       "      <td>0</td>\n",
       "      <td>NaN</td>\n",
       "      <td>101</td>\n",
       "      <td>Japan</td>\n",
       "      <td>4</td>\n",
       "      <td>...</td>\n",
       "      <td>NaN</td>\n",
       "      <td>NaN</td>\n",
       "      <td>NaN</td>\n",
       "      <td>NaN</td>\n",
       "      <td>PGIS</td>\n",
       "      <td>-9</td>\n",
       "      <td>-9</td>\n",
       "      <td>1</td>\n",
       "      <td>1</td>\n",
       "      <td>NaN</td>\n",
       "    </tr>\n",
       "  </tbody>\n",
       "</table>\n",
       "<p>5 rows × 135 columns</p>\n",
       "</div>"
      ],
      "text/plain": [
       "        eventid  iyear  imonth  iday approxdate  extended resolution  country   \n",
       "0  197000000001   1970       7     2        NaN         0        NaN       58  \\\n",
       "1  197000000002   1970       0     0        NaN         0        NaN      130   \n",
       "2  197001000001   1970       1     0        NaN         0        NaN      160   \n",
       "3  197001000002   1970       1     0        NaN         0        NaN       78   \n",
       "4  197001000003   1970       1     0        NaN         0        NaN      101   \n",
       "\n",
       "          country_txt  region  ... addnotes scite1 scite2  scite3  dbsource   \n",
       "0  Dominican Republic       2  ...      NaN    NaN    NaN     NaN      PGIS  \\\n",
       "1              Mexico       1  ...      NaN    NaN    NaN     NaN      PGIS   \n",
       "2         Philippines       5  ...      NaN    NaN    NaN     NaN      PGIS   \n",
       "3              Greece       8  ...      NaN    NaN    NaN     NaN      PGIS   \n",
       "4               Japan       4  ...      NaN    NaN    NaN     NaN      PGIS   \n",
       "\n",
       "   INT_LOG  INT_IDEO INT_MISC INT_ANY  related  \n",
       "0        0         0        0       0      NaN  \n",
       "1        0         1        1       1      NaN  \n",
       "2       -9        -9        1       1      NaN  \n",
       "3       -9        -9        1       1      NaN  \n",
       "4       -9        -9        1       1      NaN  \n",
       "\n",
       "[5 rows x 135 columns]"
      ]
     },
     "execution_count": 4,
     "metadata": {},
     "output_type": "execute_result"
    }
   ],
   "source": [
    "Data.head()"
   ]
  },
  {
   "cell_type": "markdown",
   "id": "d8450cd3",
   "metadata": {},
   "source": [
    "# To Describe the DataSet"
   ]
  },
  {
   "cell_type": "code",
   "execution_count": 5,
   "id": "060815f7",
   "metadata": {
    "scrolled": true
   },
   "outputs": [
    {
     "data": {
      "text/html": [
       "<div>\n",
       "<style scoped>\n",
       "    .dataframe tbody tr th:only-of-type {\n",
       "        vertical-align: middle;\n",
       "    }\n",
       "\n",
       "    .dataframe tbody tr th {\n",
       "        vertical-align: top;\n",
       "    }\n",
       "\n",
       "    .dataframe thead th {\n",
       "        text-align: right;\n",
       "    }\n",
       "</style>\n",
       "<table border=\"1\" class=\"dataframe\">\n",
       "  <thead>\n",
       "    <tr style=\"text-align: right;\">\n",
       "      <th></th>\n",
       "      <th>eventid</th>\n",
       "      <th>iyear</th>\n",
       "      <th>imonth</th>\n",
       "      <th>iday</th>\n",
       "      <th>extended</th>\n",
       "      <th>country</th>\n",
       "      <th>region</th>\n",
       "      <th>latitude</th>\n",
       "      <th>longitude</th>\n",
       "      <th>specificity</th>\n",
       "      <th>...</th>\n",
       "      <th>ransomamt</th>\n",
       "      <th>ransomamtus</th>\n",
       "      <th>ransompaid</th>\n",
       "      <th>ransompaidus</th>\n",
       "      <th>hostkidoutcome</th>\n",
       "      <th>nreleased</th>\n",
       "      <th>INT_LOG</th>\n",
       "      <th>INT_IDEO</th>\n",
       "      <th>INT_MISC</th>\n",
       "      <th>INT_ANY</th>\n",
       "    </tr>\n",
       "  </thead>\n",
       "  <tbody>\n",
       "    <tr>\n",
       "      <th>count</th>\n",
       "      <td>1.816910e+05</td>\n",
       "      <td>181691.000000</td>\n",
       "      <td>181691.000000</td>\n",
       "      <td>181691.000000</td>\n",
       "      <td>181691.000000</td>\n",
       "      <td>181691.000000</td>\n",
       "      <td>181691.000000</td>\n",
       "      <td>177135.000000</td>\n",
       "      <td>1.771340e+05</td>\n",
       "      <td>181685.000000</td>\n",
       "      <td>...</td>\n",
       "      <td>1.350000e+03</td>\n",
       "      <td>5.630000e+02</td>\n",
       "      <td>7.740000e+02</td>\n",
       "      <td>552.000000</td>\n",
       "      <td>10991.000000</td>\n",
       "      <td>10400.000000</td>\n",
       "      <td>181691.000000</td>\n",
       "      <td>181691.000000</td>\n",
       "      <td>181691.000000</td>\n",
       "      <td>181691.000000</td>\n",
       "    </tr>\n",
       "    <tr>\n",
       "      <th>mean</th>\n",
       "      <td>2.002705e+11</td>\n",
       "      <td>2002.638997</td>\n",
       "      <td>6.467277</td>\n",
       "      <td>15.505644</td>\n",
       "      <td>0.045346</td>\n",
       "      <td>131.968501</td>\n",
       "      <td>7.160938</td>\n",
       "      <td>23.498343</td>\n",
       "      <td>-4.586957e+02</td>\n",
       "      <td>1.451452</td>\n",
       "      <td>...</td>\n",
       "      <td>3.172530e+06</td>\n",
       "      <td>5.784865e+05</td>\n",
       "      <td>7.179437e+05</td>\n",
       "      <td>240.378623</td>\n",
       "      <td>4.629242</td>\n",
       "      <td>-29.018269</td>\n",
       "      <td>-4.543731</td>\n",
       "      <td>-4.464398</td>\n",
       "      <td>0.090010</td>\n",
       "      <td>-3.945952</td>\n",
       "    </tr>\n",
       "    <tr>\n",
       "      <th>std</th>\n",
       "      <td>1.325957e+09</td>\n",
       "      <td>13.259430</td>\n",
       "      <td>3.388303</td>\n",
       "      <td>8.814045</td>\n",
       "      <td>0.208063</td>\n",
       "      <td>112.414535</td>\n",
       "      <td>2.933408</td>\n",
       "      <td>18.569242</td>\n",
       "      <td>2.047790e+05</td>\n",
       "      <td>0.995430</td>\n",
       "      <td>...</td>\n",
       "      <td>3.021157e+07</td>\n",
       "      <td>7.077924e+06</td>\n",
       "      <td>1.014392e+07</td>\n",
       "      <td>2940.967293</td>\n",
       "      <td>2.035360</td>\n",
       "      <td>65.720119</td>\n",
       "      <td>4.543547</td>\n",
       "      <td>4.637152</td>\n",
       "      <td>0.568457</td>\n",
       "      <td>4.691325</td>\n",
       "    </tr>\n",
       "    <tr>\n",
       "      <th>min</th>\n",
       "      <td>1.970000e+11</td>\n",
       "      <td>1970.000000</td>\n",
       "      <td>0.000000</td>\n",
       "      <td>0.000000</td>\n",
       "      <td>0.000000</td>\n",
       "      <td>4.000000</td>\n",
       "      <td>1.000000</td>\n",
       "      <td>-53.154613</td>\n",
       "      <td>-8.618590e+07</td>\n",
       "      <td>1.000000</td>\n",
       "      <td>...</td>\n",
       "      <td>-9.900000e+01</td>\n",
       "      <td>-9.900000e+01</td>\n",
       "      <td>-9.900000e+01</td>\n",
       "      <td>-99.000000</td>\n",
       "      <td>1.000000</td>\n",
       "      <td>-99.000000</td>\n",
       "      <td>-9.000000</td>\n",
       "      <td>-9.000000</td>\n",
       "      <td>-9.000000</td>\n",
       "      <td>-9.000000</td>\n",
       "    </tr>\n",
       "    <tr>\n",
       "      <th>25%</th>\n",
       "      <td>1.991021e+11</td>\n",
       "      <td>1991.000000</td>\n",
       "      <td>4.000000</td>\n",
       "      <td>8.000000</td>\n",
       "      <td>0.000000</td>\n",
       "      <td>78.000000</td>\n",
       "      <td>5.000000</td>\n",
       "      <td>11.510046</td>\n",
       "      <td>4.545640e+00</td>\n",
       "      <td>1.000000</td>\n",
       "      <td>...</td>\n",
       "      <td>0.000000e+00</td>\n",
       "      <td>0.000000e+00</td>\n",
       "      <td>-9.900000e+01</td>\n",
       "      <td>0.000000</td>\n",
       "      <td>2.000000</td>\n",
       "      <td>-99.000000</td>\n",
       "      <td>-9.000000</td>\n",
       "      <td>-9.000000</td>\n",
       "      <td>0.000000</td>\n",
       "      <td>-9.000000</td>\n",
       "    </tr>\n",
       "    <tr>\n",
       "      <th>50%</th>\n",
       "      <td>2.009022e+11</td>\n",
       "      <td>2009.000000</td>\n",
       "      <td>6.000000</td>\n",
       "      <td>15.000000</td>\n",
       "      <td>0.000000</td>\n",
       "      <td>98.000000</td>\n",
       "      <td>6.000000</td>\n",
       "      <td>31.467463</td>\n",
       "      <td>4.324651e+01</td>\n",
       "      <td>1.000000</td>\n",
       "      <td>...</td>\n",
       "      <td>1.500000e+04</td>\n",
       "      <td>0.000000e+00</td>\n",
       "      <td>0.000000e+00</td>\n",
       "      <td>0.000000</td>\n",
       "      <td>4.000000</td>\n",
       "      <td>0.000000</td>\n",
       "      <td>-9.000000</td>\n",
       "      <td>-9.000000</td>\n",
       "      <td>0.000000</td>\n",
       "      <td>0.000000</td>\n",
       "    </tr>\n",
       "    <tr>\n",
       "      <th>75%</th>\n",
       "      <td>2.014081e+11</td>\n",
       "      <td>2014.000000</td>\n",
       "      <td>9.000000</td>\n",
       "      <td>23.000000</td>\n",
       "      <td>0.000000</td>\n",
       "      <td>160.000000</td>\n",
       "      <td>10.000000</td>\n",
       "      <td>34.685087</td>\n",
       "      <td>6.871033e+01</td>\n",
       "      <td>1.000000</td>\n",
       "      <td>...</td>\n",
       "      <td>4.000000e+05</td>\n",
       "      <td>0.000000e+00</td>\n",
       "      <td>1.273412e+03</td>\n",
       "      <td>0.000000</td>\n",
       "      <td>7.000000</td>\n",
       "      <td>1.000000</td>\n",
       "      <td>0.000000</td>\n",
       "      <td>0.000000</td>\n",
       "      <td>0.000000</td>\n",
       "      <td>0.000000</td>\n",
       "    </tr>\n",
       "    <tr>\n",
       "      <th>max</th>\n",
       "      <td>2.017123e+11</td>\n",
       "      <td>2017.000000</td>\n",
       "      <td>12.000000</td>\n",
       "      <td>31.000000</td>\n",
       "      <td>1.000000</td>\n",
       "      <td>1004.000000</td>\n",
       "      <td>12.000000</td>\n",
       "      <td>74.633553</td>\n",
       "      <td>1.793667e+02</td>\n",
       "      <td>5.000000</td>\n",
       "      <td>...</td>\n",
       "      <td>1.000000e+09</td>\n",
       "      <td>1.320000e+08</td>\n",
       "      <td>2.750000e+08</td>\n",
       "      <td>48000.000000</td>\n",
       "      <td>7.000000</td>\n",
       "      <td>2769.000000</td>\n",
       "      <td>1.000000</td>\n",
       "      <td>1.000000</td>\n",
       "      <td>1.000000</td>\n",
       "      <td>1.000000</td>\n",
       "    </tr>\n",
       "  </tbody>\n",
       "</table>\n",
       "<p>8 rows × 77 columns</p>\n",
       "</div>"
      ],
      "text/plain": [
       "            eventid          iyear         imonth           iday   \n",
       "count  1.816910e+05  181691.000000  181691.000000  181691.000000  \\\n",
       "mean   2.002705e+11    2002.638997       6.467277      15.505644   \n",
       "std    1.325957e+09      13.259430       3.388303       8.814045   \n",
       "min    1.970000e+11    1970.000000       0.000000       0.000000   \n",
       "25%    1.991021e+11    1991.000000       4.000000       8.000000   \n",
       "50%    2.009022e+11    2009.000000       6.000000      15.000000   \n",
       "75%    2.014081e+11    2014.000000       9.000000      23.000000   \n",
       "max    2.017123e+11    2017.000000      12.000000      31.000000   \n",
       "\n",
       "            extended        country         region       latitude   \n",
       "count  181691.000000  181691.000000  181691.000000  177135.000000  \\\n",
       "mean        0.045346     131.968501       7.160938      23.498343   \n",
       "std         0.208063     112.414535       2.933408      18.569242   \n",
       "min         0.000000       4.000000       1.000000     -53.154613   \n",
       "25%         0.000000      78.000000       5.000000      11.510046   \n",
       "50%         0.000000      98.000000       6.000000      31.467463   \n",
       "75%         0.000000     160.000000      10.000000      34.685087   \n",
       "max         1.000000    1004.000000      12.000000      74.633553   \n",
       "\n",
       "          longitude    specificity  ...     ransomamt   ransomamtus   \n",
       "count  1.771340e+05  181685.000000  ...  1.350000e+03  5.630000e+02  \\\n",
       "mean  -4.586957e+02       1.451452  ...  3.172530e+06  5.784865e+05   \n",
       "std    2.047790e+05       0.995430  ...  3.021157e+07  7.077924e+06   \n",
       "min   -8.618590e+07       1.000000  ... -9.900000e+01 -9.900000e+01   \n",
       "25%    4.545640e+00       1.000000  ...  0.000000e+00  0.000000e+00   \n",
       "50%    4.324651e+01       1.000000  ...  1.500000e+04  0.000000e+00   \n",
       "75%    6.871033e+01       1.000000  ...  4.000000e+05  0.000000e+00   \n",
       "max    1.793667e+02       5.000000  ...  1.000000e+09  1.320000e+08   \n",
       "\n",
       "         ransompaid  ransompaidus  hostkidoutcome     nreleased   \n",
       "count  7.740000e+02    552.000000    10991.000000  10400.000000  \\\n",
       "mean   7.179437e+05    240.378623        4.629242    -29.018269   \n",
       "std    1.014392e+07   2940.967293        2.035360     65.720119   \n",
       "min   -9.900000e+01    -99.000000        1.000000    -99.000000   \n",
       "25%   -9.900000e+01      0.000000        2.000000    -99.000000   \n",
       "50%    0.000000e+00      0.000000        4.000000      0.000000   \n",
       "75%    1.273412e+03      0.000000        7.000000      1.000000   \n",
       "max    2.750000e+08  48000.000000        7.000000   2769.000000   \n",
       "\n",
       "             INT_LOG       INT_IDEO       INT_MISC        INT_ANY  \n",
       "count  181691.000000  181691.000000  181691.000000  181691.000000  \n",
       "mean       -4.543731      -4.464398       0.090010      -3.945952  \n",
       "std         4.543547       4.637152       0.568457       4.691325  \n",
       "min        -9.000000      -9.000000      -9.000000      -9.000000  \n",
       "25%        -9.000000      -9.000000       0.000000      -9.000000  \n",
       "50%        -9.000000      -9.000000       0.000000       0.000000  \n",
       "75%         0.000000       0.000000       0.000000       0.000000  \n",
       "max         1.000000       1.000000       1.000000       1.000000  \n",
       "\n",
       "[8 rows x 77 columns]"
      ]
     },
     "execution_count": 5,
     "metadata": {},
     "output_type": "execute_result"
    }
   ],
   "source": [
    "Data.describe()"
   ]
  },
  {
   "cell_type": "markdown",
   "id": "7d98421f",
   "metadata": {},
   "source": [
    "# To Show Information about the DataSet"
   ]
  },
  {
   "cell_type": "code",
   "execution_count": 6,
   "id": "1015897e",
   "metadata": {},
   "outputs": [
    {
     "name": "stdout",
     "output_type": "stream",
     "text": [
      "<class 'pandas.core.frame.DataFrame'>\n",
      "RangeIndex: 181691 entries, 0 to 181690\n",
      "Columns: 135 entries, eventid to related\n",
      "dtypes: float64(55), int64(22), object(58)\n",
      "memory usage: 187.1+ MB\n"
     ]
    }
   ],
   "source": [
    "Data.info()"
   ]
  },
  {
   "cell_type": "markdown",
   "id": "34f358c9",
   "metadata": {},
   "source": [
    "# To Show the Columns Name"
   ]
  },
  {
   "cell_type": "code",
   "execution_count": 7,
   "id": "a79da6e3",
   "metadata": {},
   "outputs": [
    {
     "data": {
      "text/plain": [
       "Index(['eventid', 'iyear', 'imonth', 'iday', 'approxdate', 'extended',\n",
       "       'resolution', 'country', 'country_txt', 'region',\n",
       "       ...\n",
       "       'addnotes', 'scite1', 'scite2', 'scite3', 'dbsource', 'INT_LOG',\n",
       "       'INT_IDEO', 'INT_MISC', 'INT_ANY', 'related'],\n",
       "      dtype='object', length=135)"
      ]
     },
     "execution_count": 7,
     "metadata": {},
     "output_type": "execute_result"
    }
   ],
   "source": [
    "Data.columns"
   ]
  },
  {
   "cell_type": "markdown",
   "id": "b4e47428",
   "metadata": {},
   "source": [
    "# To Extract the Columns Related to the DataSet"
   ]
  },
  {
   "cell_type": "code",
   "execution_count": 8,
   "id": "949ccfc2",
   "metadata": {},
   "outputs": [],
   "source": [
    "Filtered_Data = Data[['iyear','imonth','iday','country_txt','region_txt','city','attacktype1_txt','natlty1_txt',\n",
    "                     'gname','motive','weaptype1_txt']]"
   ]
  },
  {
   "cell_type": "markdown",
   "id": "3f3ea060",
   "metadata": {},
   "source": [
    "# To Change the Name of Columns"
   ]
  },
  {
   "cell_type": "code",
   "execution_count": 9,
   "id": "8500d057",
   "metadata": {},
   "outputs": [],
   "source": [
    "Datas = Filtered_Data.rename(columns = {'iyear' : 'Year','imonth' : 'Month','iday' : 'Day','country_txt' : 'Country',\n",
    "                                       'region_txt' : 'Region','city' : 'City','attacktype1_txt' : 'Attack_Type',\n",
    "                                       'natlty1_txt' : 'Nationality','gname' : 'Name','motive' : 'Motive',\n",
    "                                       'weaptype1_txt' : 'weapon'})"
   ]
  },
  {
   "cell_type": "markdown",
   "id": "8dcb5d9c",
   "metadata": {},
   "source": [
    "# To Show the new DataSet"
   ]
  },
  {
   "cell_type": "code",
   "execution_count": 11,
   "id": "11ec9cf0",
   "metadata": {
    "scrolled": false
   },
   "outputs": [
    {
     "data": {
      "text/html": [
       "<div>\n",
       "<style scoped>\n",
       "    .dataframe tbody tr th:only-of-type {\n",
       "        vertical-align: middle;\n",
       "    }\n",
       "\n",
       "    .dataframe tbody tr th {\n",
       "        vertical-align: top;\n",
       "    }\n",
       "\n",
       "    .dataframe thead th {\n",
       "        text-align: right;\n",
       "    }\n",
       "</style>\n",
       "<table border=\"1\" class=\"dataframe\">\n",
       "  <thead>\n",
       "    <tr style=\"text-align: right;\">\n",
       "      <th></th>\n",
       "      <th>Year</th>\n",
       "      <th>Month</th>\n",
       "      <th>Day</th>\n",
       "      <th>Country</th>\n",
       "      <th>Region</th>\n",
       "      <th>City</th>\n",
       "      <th>Attack_Type</th>\n",
       "      <th>Nationality</th>\n",
       "      <th>Name</th>\n",
       "      <th>Motive</th>\n",
       "      <th>weapon</th>\n",
       "    </tr>\n",
       "  </thead>\n",
       "  <tbody>\n",
       "    <tr>\n",
       "      <th>0</th>\n",
       "      <td>1970</td>\n",
       "      <td>7</td>\n",
       "      <td>2</td>\n",
       "      <td>Dominican Republic</td>\n",
       "      <td>Central America &amp; Caribbean</td>\n",
       "      <td>Santo Domingo</td>\n",
       "      <td>Assassination</td>\n",
       "      <td>Dominican Republic</td>\n",
       "      <td>MANO-D</td>\n",
       "      <td>NaN</td>\n",
       "      <td>Unknown</td>\n",
       "    </tr>\n",
       "    <tr>\n",
       "      <th>1</th>\n",
       "      <td>1970</td>\n",
       "      <td>0</td>\n",
       "      <td>0</td>\n",
       "      <td>Mexico</td>\n",
       "      <td>North America</td>\n",
       "      <td>Mexico city</td>\n",
       "      <td>Hostage Taking (Kidnapping)</td>\n",
       "      <td>Belgium</td>\n",
       "      <td>23rd of September Communist League</td>\n",
       "      <td>NaN</td>\n",
       "      <td>Unknown</td>\n",
       "    </tr>\n",
       "    <tr>\n",
       "      <th>2</th>\n",
       "      <td>1970</td>\n",
       "      <td>1</td>\n",
       "      <td>0</td>\n",
       "      <td>Philippines</td>\n",
       "      <td>Southeast Asia</td>\n",
       "      <td>Unknown</td>\n",
       "      <td>Assassination</td>\n",
       "      <td>United States</td>\n",
       "      <td>Unknown</td>\n",
       "      <td>NaN</td>\n",
       "      <td>Unknown</td>\n",
       "    </tr>\n",
       "    <tr>\n",
       "      <th>3</th>\n",
       "      <td>1970</td>\n",
       "      <td>1</td>\n",
       "      <td>0</td>\n",
       "      <td>Greece</td>\n",
       "      <td>Western Europe</td>\n",
       "      <td>Athens</td>\n",
       "      <td>Bombing/Explosion</td>\n",
       "      <td>United States</td>\n",
       "      <td>Unknown</td>\n",
       "      <td>NaN</td>\n",
       "      <td>Explosives</td>\n",
       "    </tr>\n",
       "    <tr>\n",
       "      <th>4</th>\n",
       "      <td>1970</td>\n",
       "      <td>1</td>\n",
       "      <td>0</td>\n",
       "      <td>Japan</td>\n",
       "      <td>East Asia</td>\n",
       "      <td>Fukouka</td>\n",
       "      <td>Facility/Infrastructure Attack</td>\n",
       "      <td>United States</td>\n",
       "      <td>Unknown</td>\n",
       "      <td>NaN</td>\n",
       "      <td>Incendiary</td>\n",
       "    </tr>\n",
       "    <tr>\n",
       "      <th>...</th>\n",
       "      <td>...</td>\n",
       "      <td>...</td>\n",
       "      <td>...</td>\n",
       "      <td>...</td>\n",
       "      <td>...</td>\n",
       "      <td>...</td>\n",
       "      <td>...</td>\n",
       "      <td>...</td>\n",
       "      <td>...</td>\n",
       "      <td>...</td>\n",
       "      <td>...</td>\n",
       "    </tr>\n",
       "    <tr>\n",
       "      <th>181686</th>\n",
       "      <td>2017</td>\n",
       "      <td>12</td>\n",
       "      <td>31</td>\n",
       "      <td>Somalia</td>\n",
       "      <td>Sub-Saharan Africa</td>\n",
       "      <td>Ceelka Geelow</td>\n",
       "      <td>Armed Assault</td>\n",
       "      <td>Somalia</td>\n",
       "      <td>Al-Shabaab</td>\n",
       "      <td>NaN</td>\n",
       "      <td>Firearms</td>\n",
       "    </tr>\n",
       "    <tr>\n",
       "      <th>181687</th>\n",
       "      <td>2017</td>\n",
       "      <td>12</td>\n",
       "      <td>31</td>\n",
       "      <td>Syria</td>\n",
       "      <td>Middle East &amp; North Africa</td>\n",
       "      <td>Jableh</td>\n",
       "      <td>Bombing/Explosion</td>\n",
       "      <td>Russia</td>\n",
       "      <td>Muslim extremists</td>\n",
       "      <td>NaN</td>\n",
       "      <td>Explosives</td>\n",
       "    </tr>\n",
       "    <tr>\n",
       "      <th>181688</th>\n",
       "      <td>2017</td>\n",
       "      <td>12</td>\n",
       "      <td>31</td>\n",
       "      <td>Philippines</td>\n",
       "      <td>Southeast Asia</td>\n",
       "      <td>Kubentog</td>\n",
       "      <td>Facility/Infrastructure Attack</td>\n",
       "      <td>Philippines</td>\n",
       "      <td>Bangsamoro Islamic Freedom Movement (BIFM)</td>\n",
       "      <td>NaN</td>\n",
       "      <td>Incendiary</td>\n",
       "    </tr>\n",
       "    <tr>\n",
       "      <th>181689</th>\n",
       "      <td>2017</td>\n",
       "      <td>12</td>\n",
       "      <td>31</td>\n",
       "      <td>India</td>\n",
       "      <td>South Asia</td>\n",
       "      <td>Imphal</td>\n",
       "      <td>Bombing/Explosion</td>\n",
       "      <td>India</td>\n",
       "      <td>Unknown</td>\n",
       "      <td>NaN</td>\n",
       "      <td>Explosives</td>\n",
       "    </tr>\n",
       "    <tr>\n",
       "      <th>181690</th>\n",
       "      <td>2017</td>\n",
       "      <td>12</td>\n",
       "      <td>31</td>\n",
       "      <td>Philippines</td>\n",
       "      <td>Southeast Asia</td>\n",
       "      <td>Cotabato City</td>\n",
       "      <td>Bombing/Explosion</td>\n",
       "      <td>Philippines</td>\n",
       "      <td>Unknown</td>\n",
       "      <td>NaN</td>\n",
       "      <td>Explosives</td>\n",
       "    </tr>\n",
       "  </tbody>\n",
       "</table>\n",
       "<p>181691 rows × 11 columns</p>\n",
       "</div>"
      ],
      "text/plain": [
       "        Year  Month  Day             Country                       Region   \n",
       "0       1970      7    2  Dominican Republic  Central America & Caribbean  \\\n",
       "1       1970      0    0              Mexico                North America   \n",
       "2       1970      1    0         Philippines               Southeast Asia   \n",
       "3       1970      1    0              Greece               Western Europe   \n",
       "4       1970      1    0               Japan                    East Asia   \n",
       "...      ...    ...  ...                 ...                          ...   \n",
       "181686  2017     12   31             Somalia           Sub-Saharan Africa   \n",
       "181687  2017     12   31               Syria   Middle East & North Africa   \n",
       "181688  2017     12   31         Philippines               Southeast Asia   \n",
       "181689  2017     12   31               India                   South Asia   \n",
       "181690  2017     12   31         Philippines               Southeast Asia   \n",
       "\n",
       "                 City                     Attack_Type         Nationality   \n",
       "0       Santo Domingo                   Assassination  Dominican Republic  \\\n",
       "1         Mexico city     Hostage Taking (Kidnapping)             Belgium   \n",
       "2             Unknown                   Assassination       United States   \n",
       "3              Athens               Bombing/Explosion       United States   \n",
       "4             Fukouka  Facility/Infrastructure Attack       United States   \n",
       "...               ...                             ...                 ...   \n",
       "181686  Ceelka Geelow                   Armed Assault             Somalia   \n",
       "181687         Jableh               Bombing/Explosion              Russia   \n",
       "181688       Kubentog  Facility/Infrastructure Attack         Philippines   \n",
       "181689         Imphal               Bombing/Explosion               India   \n",
       "181690  Cotabato City               Bombing/Explosion         Philippines   \n",
       "\n",
       "                                              Name Motive      weapon  \n",
       "0                                           MANO-D    NaN     Unknown  \n",
       "1               23rd of September Communist League    NaN     Unknown  \n",
       "2                                          Unknown    NaN     Unknown  \n",
       "3                                          Unknown    NaN  Explosives  \n",
       "4                                          Unknown    NaN  Incendiary  \n",
       "...                                            ...    ...         ...  \n",
       "181686                                  Al-Shabaab    NaN    Firearms  \n",
       "181687                           Muslim extremists    NaN  Explosives  \n",
       "181688  Bangsamoro Islamic Freedom Movement (BIFM)    NaN  Incendiary  \n",
       "181689                                     Unknown    NaN  Explosives  \n",
       "181690                                     Unknown    NaN  Explosives  \n",
       "\n",
       "[181691 rows x 11 columns]"
      ]
     },
     "execution_count": 11,
     "metadata": {},
     "output_type": "execute_result"
    }
   ],
   "source": [
    "Datas"
   ]
  },
  {
   "cell_type": "markdown",
   "id": "df73c42d",
   "metadata": {},
   "source": [
    "# To Show the total number of null values in all columns"
   ]
  },
  {
   "cell_type": "code",
   "execution_count": 13,
   "id": "fc3c6fc0",
   "metadata": {},
   "outputs": [
    {
     "data": {
      "text/plain": [
       "Year                0\n",
       "Month               0\n",
       "Day                 0\n",
       "Country             0\n",
       "Region              0\n",
       "City              435\n",
       "Attack_Type         0\n",
       "Nationality      1559\n",
       "Name                0\n",
       "Motive         131130\n",
       "weapon              0\n",
       "dtype: int64"
      ]
     },
     "execution_count": 13,
     "metadata": {},
     "output_type": "execute_result"
    }
   ],
   "source": [
    "Datas.isnull().sum()"
   ]
  },
  {
   "cell_type": "markdown",
   "id": "cd56f579",
   "metadata": {},
   "source": [
    "# To Delete all null values"
   ]
  },
  {
   "cell_type": "code",
   "execution_count": 27,
   "id": "2b6b621b",
   "metadata": {},
   "outputs": [],
   "source": [
    "Datas = Datas.dropna(how='any',axis=0)"
   ]
  },
  {
   "cell_type": "markdown",
   "id": "216c7f79",
   "metadata": {},
   "source": [
    "# Usefull Insight from DataSet "
   ]
  },
  {
   "cell_type": "code",
   "execution_count": 28,
   "id": "5a09209c",
   "metadata": {},
   "outputs": [
    {
     "name": "stdout",
     "output_type": "stream",
     "text": [
      "Year which had most attacks: 2011\n"
     ]
    }
   ],
   "source": [
    "print(\"Year which had most attacks:\",Datas['Year'].value_counts().idxmax())"
   ]
  },
  {
   "cell_type": "code",
   "execution_count": 33,
   "id": "ed5ddfdf",
   "metadata": {},
   "outputs": [
    {
     "name": "stdout",
     "output_type": "stream",
     "text": [
      "The Region Which had most number of attacks: South Asia\n"
     ]
    }
   ],
   "source": [
    "print(\"The Region Which had most number of attacks:\",Datas['Region'].value_counts().idxmax())"
   ]
  },
  {
   "cell_type": "code",
   "execution_count": 30,
   "id": "cd12279d",
   "metadata": {},
   "outputs": [
    {
     "name": "stdout",
     "output_type": "stream",
     "text": [
      "The Country with the most attacks: Iraq\n"
     ]
    }
   ],
   "source": [
    "print(\"The Country with the most attacks:\",Datas['Country'].value_counts().idxmax())"
   ]
  },
  {
   "cell_type": "code",
   "execution_count": 31,
   "id": "4b11539f",
   "metadata": {},
   "outputs": [
    {
     "name": "stdout",
     "output_type": "stream",
     "text": [
      "The City which had most attacks: Baghdad\n"
     ]
    }
   ],
   "source": [
    "print(\"The City which had most attacks:\",Datas['City'].value_counts().idxmax())"
   ]
  },
  {
   "cell_type": "code",
   "execution_count": 38,
   "id": "3b026ca0",
   "metadata": {},
   "outputs": [
    {
     "name": "stdout",
     "output_type": "stream",
     "text": [
      "The Most active terrorist group: Taliban\n"
     ]
    }
   ],
   "source": [
    "print(\"The Most active terrorist group:\",Datas['Name'].value_counts().index[1])"
   ]
  },
  {
   "cell_type": "code",
   "execution_count": 39,
   "id": "dd09aa89",
   "metadata": {},
   "outputs": [
    {
     "name": "stdout",
     "output_type": "stream",
     "text": [
      "The Most Commom Attack Type: Bombing/Explosion\n"
     ]
    }
   ],
   "source": [
    "print(\"The Most Commom Attack Type:\",Datas['Attack_Type'].value_counts().idxmax())"
   ]
  },
  {
   "cell_type": "code",
   "execution_count": 54,
   "id": "0f7b7a9e",
   "metadata": {},
   "outputs": [
    {
     "name": "stdout",
     "output_type": "stream",
     "text": [
      "The Date when most attacks occured: 1\n"
     ]
    }
   ],
   "source": [
    "print(\"The Date when most attacks occured:\",Datas['Day'].value_counts().idxmax())"
   ]
  },
  {
   "cell_type": "code",
   "execution_count": 56,
   "id": "fc35e13d",
   "metadata": {},
   "outputs": [
    {
     "name": "stdout",
     "output_type": "stream",
     "text": [
      "The Month when most attacks occured: 7\n"
     ]
    }
   ],
   "source": [
    "print(\"The Month when most attacks occured:\",Datas['Month'].value_counts().idxmax())"
   ]
  },
  {
   "cell_type": "markdown",
   "id": "4993f607",
   "metadata": {},
   "source": [
    "# Top 10 most effected Regions"
   ]
  },
  {
   "cell_type": "code",
   "execution_count": 57,
   "id": "ee49f5cc",
   "metadata": {},
   "outputs": [
    {
     "data": {
      "text/plain": [
       "Region\n",
       "South Asia                    16673\n",
       "Middle East & North Africa    15439\n",
       "Southeast Asia                 4934\n",
       "Sub-Saharan Africa             4318\n",
       "Western Europe                 2401\n",
       "Eastern Europe                 2196\n",
       "South America                  1825\n",
       "North America                  1601\n",
       "Central Asia                    236\n",
       "East Asia                       161\n",
       "Name: count, dtype: int64"
      ]
     },
     "execution_count": 57,
     "metadata": {},
     "output_type": "execute_result"
    }
   ],
   "source": [
    "Datas['Region'].value_counts().head(10)"
   ]
  },
  {
   "cell_type": "markdown",
   "id": "f1ed9080",
   "metadata": {},
   "source": [
    "# Top 10 most effected Countries"
   ]
  },
  {
   "cell_type": "code",
   "execution_count": 58,
   "id": "4b4d562a",
   "metadata": {},
   "outputs": [
    {
     "data": {
      "text/plain": [
       "Country\n",
       "Iraq             9448\n",
       "India            5682\n",
       "Pakistan         5041\n",
       "Afghanistan      3418\n",
       "Philippines      2353\n",
       "Thailand         1833\n",
       "Colombia         1546\n",
       "Russia           1546\n",
       "Algeria          1490\n",
       "United States    1477\n",
       "Name: count, dtype: int64"
      ]
     },
     "execution_count": 58,
     "metadata": {},
     "output_type": "execute_result"
    }
   ],
   "source": [
    "Datas['Country'].value_counts().head(10)"
   ]
  },
  {
   "cell_type": "markdown",
   "id": "6c4bdd39",
   "metadata": {},
   "source": [
    "# Top 10 most effected Cities"
   ]
  },
  {
   "cell_type": "code",
   "execution_count": 59,
   "id": "128e89a8",
   "metadata": {},
   "outputs": [
    {
     "data": {
      "text/plain": [
       "City\n",
       "Baghdad      3765\n",
       "Unknown      1843\n",
       "Mosul         964\n",
       "Karachi       725\n",
       "Kirkuk        545\n",
       "Mogadishu     517\n",
       "Baqubah       412\n",
       "Quetta        385\n",
       "Athens        358\n",
       "Peshawar      334\n",
       "Name: count, dtype: int64"
      ]
     },
     "execution_count": 59,
     "metadata": {},
     "output_type": "execute_result"
    }
   ],
   "source": [
    "Datas['City'].value_counts().head(10)"
   ]
  },
  {
   "cell_type": "markdown",
   "id": "aed12537",
   "metadata": {},
   "source": [
    "# Top 10 most active Groups"
   ]
  },
  {
   "cell_type": "code",
   "execution_count": 60,
   "id": "ebbca59a",
   "metadata": {},
   "outputs": [
    {
     "data": {
      "text/plain": [
       "Name\n",
       "Unknown                                           24417\n",
       "Taliban                                            2036\n",
       "Communist Party of India - Maoist (CPI-Maoist)     1697\n",
       "Islamic State of Iraq and the Levant (ISIL)         993\n",
       "Revolutionary Armed Forces of Colombia (FARC)       932\n",
       "New People's Army (NPA)                             840\n",
       "Tehrik-i-Taliban Pakistan (TTP)                     815\n",
       "Maoists                                             798\n",
       "Al-Shabaab                                          749\n",
       "Liberation Tigers of Tamil Eelam (LTTE)             690\n",
       "Name: count, dtype: int64"
      ]
     },
     "execution_count": 60,
     "metadata": {},
     "output_type": "execute_result"
    }
   ],
   "source": [
    "Datas['Name'].value_counts().head(10)"
   ]
  },
  {
   "cell_type": "markdown",
   "id": "adfe3fd8",
   "metadata": {},
   "source": [
    "# Top 10 Most used Weapons"
   ]
  },
  {
   "cell_type": "code",
   "execution_count": 61,
   "id": "b97ab293",
   "metadata": {},
   "outputs": [
    {
     "data": {
      "text/plain": [
       "weapon\n",
       "Explosives                                                                     25781\n",
       "Firearms                                                                       15433\n",
       "Incendiary                                                                      3650\n",
       "Unknown                                                                         3308\n",
       "Melee                                                                           1356\n",
       "Chemical                                                                         136\n",
       "Sabotage Equipment                                                                87\n",
       "Other                                                                             66\n",
       "Vehicle (not to include vehicle-borne explosives, i.e., car or truck bombs)       44\n",
       "Biological                                                                        27\n",
       "Name: count, dtype: int64"
      ]
     },
     "execution_count": 61,
     "metadata": {},
     "output_type": "execute_result"
    }
   ],
   "source": [
    "Datas['weapon'].value_counts().head(10)"
   ]
  },
  {
   "cell_type": "markdown",
   "id": "33113efc",
   "metadata": {},
   "source": [
    "# Top 10 Attack types"
   ]
  },
  {
   "cell_type": "code",
   "execution_count": 62,
   "id": "4d221032",
   "metadata": {},
   "outputs": [
    {
     "data": {
      "text/plain": [
       "Attack_Type\n",
       "Bombing/Explosion                      24534\n",
       "Armed Assault                          11972\n",
       "Hostage Taking (Kidnapping)             4462\n",
       "Facility/Infrastructure Attack          3845\n",
       "Assassination                           3124\n",
       "Unknown                                 1164\n",
       "Unarmed Assault                          403\n",
       "Hostage Taking (Barricade Incident)      245\n",
       "Hijacking                                162\n",
       "Name: count, dtype: int64"
      ]
     },
     "execution_count": 62,
     "metadata": {},
     "output_type": "execute_result"
    }
   ],
   "source": [
    "Datas['Attack_Type'].value_counts().head(10)"
   ]
  },
  {
   "cell_type": "markdown",
   "id": "c32a19de",
   "metadata": {},
   "source": [
    "### These were Initial Findings Using Python language. Data Visualization is performed using Microsoft PowerBI"
   ]
  },
  {
   "cell_type": "code",
   "execution_count": null,
   "id": "d334cce3",
   "metadata": {},
   "outputs": [],
   "source": []
  }
 ],
 "metadata": {
  "kernelspec": {
   "display_name": "Python 3 (ipykernel)",
   "language": "python",
   "name": "python3"
  },
  "language_info": {
   "codemirror_mode": {
    "name": "ipython",
    "version": 3
   },
   "file_extension": ".py",
   "mimetype": "text/x-python",
   "name": "python",
   "nbconvert_exporter": "python",
   "pygments_lexer": "ipython3",
   "version": "3.11.2"
  }
 },
 "nbformat": 4,
 "nbformat_minor": 5
}

hi
